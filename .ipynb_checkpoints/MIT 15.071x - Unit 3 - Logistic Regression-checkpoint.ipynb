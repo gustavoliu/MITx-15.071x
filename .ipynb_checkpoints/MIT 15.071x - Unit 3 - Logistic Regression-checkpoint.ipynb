{
 "cells": [
  {
   "cell_type": "markdown",
   "metadata": {},
   "source": [
    "# MIT 15.071x - Unit 3 - Logistic Regression\n",
    "\n",
    "Logistic regression is an extension of linear regression, and is used in environments where the dependent variable is categorical.\n",
    "\n",
    "The example is this case is an analysis of claims data, in which the dependent variable is modeled as a binary variable:\n",
    "+  1 for low-quality care (_PoorCare_)\n",
    "+  0 for high-quality care (_GoodCare_)\n",
    "\n",
    "The probability that the outcome variable is 0 is just 1 minus the probability that the outcome variable is 1.\n",
    "\n",
    "To predict the probability that y = 1, we use the _Logistic Response Function_.\n",
    "\n",
    "$$P(y=1)= \\frac{1}{1 + e^{-(\\beta _{0} + \\beta _{1}x _{1} + \\beta _{2}x _{2} + ... +\\beta _{k} x_{k})}}$$\n",
    "\n",
    "The _Coefficients_, or _Betas_, are selected to predict a high probability for the actual poor care cases, and to predict a low probability for the actual good care cases.\n",
    "\n",
    "+  A positive coefficient value for a variable increases the linear regression piece, which increases the probability that y = 1, or increases the probability of poor care.\n",
    "\n",
    "+  A negative coefficient value for a variable decreases the linear regression piece, which in turn increases the probability of good care.\n",
    "\n",
    "Another useful way to think about the logistic response function is in terms of Odds. The Odds are the probability of 1 divided by the probability of 0.\n",
    "\n",
    "$$Odds = \\frac{P(y=1)}{P(y=0)}$$\n",
    "\n",
    "+ If y = 1 is more likely: Odds > 1\n",
    "+ If y = 0 is more likely: Odds < 1\n",
    "+ If outcomes are equally likely: Odds = 1\n",
    "\n",
    "When the probabilities in the Odds are substituted by the Logistic Response Function, the Odds are equal to _e_ raised to the power of the linear regression equation.\n",
    "\n",
    "$$Odds = e^{(\\beta _{0} + \\beta _{1}x _{1} + \\beta _{2}x _{2} + ... +\\beta _{k} x_{k})}$$\n",
    "\n",
    "By taking the log of both sides, the _log(Odds)_, or what we call the _Logit_, looks exactly like the linear regression equation.\n",
    "\n",
    "$$log(Odds) = \\beta _{0} + \\beta _{1}x _{1} + \\beta _{2}x _{2} + ... +\\beta _{k} x_{k}$$\n",
    "\n",
    "+  A positive beta value increases the Logit, which in turn increases the Odds of 1.\n",
    "+  A negative beta value decreases the Logit, which in turn, decreases the Odds of 1."
   ]
  },
  {
   "cell_type": "markdown",
   "metadata": {},
   "source": [
    "Suppose the coefficients of a logistic regression model with two independent variables are as follows:\n",
    "$\\beta_{0}=-1.5, \\beta_1 = 3, \\beta_2 = -0.5$\n",
    "\n",
    "And we have an observation with the following values for the independent variables:\n",
    "$x_1=1, x_2=5$\n",
    "\n",
    "What is the value of the Logit for this observation? Recall that the Logit is log(Odds)."
   ]
  },
  {
   "cell_type": "code",
   "execution_count": 1,
   "metadata": {},
   "outputs": [
    {
     "data": {
      "text/html": [
       "-1"
      ],
      "text/latex": [
       "-1"
      ],
      "text/markdown": [
       "-1"
      ],
      "text/plain": [
       "[1] -1"
      ]
     },
     "metadata": {},
     "output_type": "display_data"
    }
   ],
   "source": [
    "-1.5 + 3*1+ 5*(-0.5)"
   ]
  },
  {
   "cell_type": "markdown",
   "metadata": {},
   "source": [
    "What is the value of the Odds for this observation? Note that you can compute e^x, for some number x, in your R console by typing exp(x). The function exp() computes the exponential of its argument."
   ]
  },
  {
   "cell_type": "code",
   "execution_count": 2,
   "metadata": {},
   "outputs": [],
   "source": [
    "Odds = exp(-1)"
   ]
  },
  {
   "cell_type": "code",
   "execution_count": 3,
   "metadata": {},
   "outputs": [
    {
     "name": "stdout",
     "output_type": "stream",
     "text": [
      "[1] 0.3678794\n"
     ]
    }
   ],
   "source": [
    "print(Odds)"
   ]
  },
  {
   "cell_type": "markdown",
   "metadata": {},
   "source": [
    "What is the value of P(y = 1) for this observation?"
   ]
  },
  {
   "cell_type": "code",
   "execution_count": 4,
   "metadata": {},
   "outputs": [],
   "source": [
    "PoorCare = Odds / (1 + Odds)"
   ]
  },
  {
   "cell_type": "code",
   "execution_count": 5,
   "metadata": {},
   "outputs": [
    {
     "name": "stdout",
     "output_type": "stream",
     "text": [
      "[1] 0.2689414\n"
     ]
    }
   ],
   "source": [
    "print(PoorCare)"
   ]
  },
  {
   "cell_type": "code",
   "execution_count": null,
   "metadata": {},
   "outputs": [],
   "source": []
  }
 ],
 "metadata": {
  "kernelspec": {
   "display_name": "R",
   "language": "R",
   "name": "ir"
  },
  "language_info": {
   "codemirror_mode": "r",
   "file_extension": ".r",
   "mimetype": "text/x-r-source",
   "name": "R",
   "pygments_lexer": "r",
   "version": "3.4.3"
  }
 },
 "nbformat": 4,
 "nbformat_minor": 2
}
