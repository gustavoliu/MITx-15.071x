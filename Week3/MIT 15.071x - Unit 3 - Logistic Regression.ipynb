{
 "cells": [
  {
   "cell_type": "markdown",
   "metadata": {},
   "source": [
    "# MIT 15.071x - Unit 3 - Logistic Regression\n",
    "\n",
    "Logistic regression is an extension of linear regression, and is used in environments where the dependent variable is categorical.\n",
    "\n",
    "The example is this case is an analysis of claims data, in which the dependent variable is modeled as a binary variable:\n",
    "+  1 for low-quality care (_PoorCare_ = 1)\n",
    "+  0 for high-quality care (_PoorCare_ = 0)\n",
    "\n",
    "The probability that the outcome variable is 0 is just 1 minus the probability that the outcome variable is 1.\n",
    "\n",
    "To predict the probability that y = 1, we use the _Logistic Response Function_.\n",
    "\n",
    "$$P(y=1)= \\frac{1}{1 + e^{-(\\beta _{0} + \\beta _{1}x _{1} + \\beta _{2}x _{2} + ... +\\beta _{k} x_{k})}}$$\n",
    "\n",
    "The _Coefficients_, or _Betas_, are selected to predict a high probability for the actual poor care cases, and to predict a low probability for the actual good care cases.\n",
    "\n",
    "+  A positive coefficient value for a variable increases the linear regression piece, which increases the probability that y = 1, or increases the probability of poor care.\n",
    "\n",
    "+  A negative coefficient value for a variable decreases the linear regression piece, which in turn increases the probability of good care.\n",
    "\n",
    "Another useful way to think about the logistic response function is in terms of Odds. The Odds are the probability of 1 divided by the probability of 0.\n",
    "\n",
    "$$Odds = \\frac{P(y=1)}{P(y=0)}$$\n",
    "\n",
    "+ If y = 1 is more likely: Odds > 1\n",
    "+ If y = 0 is more likely: Odds < 1\n",
    "+ If outcomes are equally likely: Odds = 1\n",
    "\n",
    "When the probabilities in the Odds are substituted by the Logistic Response Function, the Odds are equal to _e_ raised to the power of the linear regression equation.\n",
    "\n",
    "$$Odds = e^{(\\beta _{0} + \\beta _{1}x _{1} + \\beta _{2}x _{2} + ... +\\beta _{k} x_{k})}$$\n",
    "\n",
    "By taking the log of both sides, the _log(Odds)_, or what we call the _Logit_, looks exactly like the linear regression equation.\n",
    "\n",
    "$$log(Odds) = \\beta _{0} + \\beta _{1}x _{1} + \\beta _{2}x _{2} + ... +\\beta _{k} x_{k}$$\n",
    "\n",
    "+  A positive beta value increases the Logit, which in turn increases the Odds of 1.\n",
    "+  A negative beta value decreases the Logit, which in turn, decreases the Odds of 1."
   ]
  },
  {
   "cell_type": "markdown",
   "metadata": {},
   "source": [
    "Suppose the coefficients of a logistic regression model with two independent variables are as follows:\n",
    "$\\beta_{0}=-1.5, \\beta_1 = 3, \\beta_2 = -0.5$\n",
    "\n",
    "And we have an observation with the following values for the independent variables:\n",
    "$x_1=1, x_2=5$\n",
    "\n",
    "What is the value of the Logit for this observation? Recall that the Logit is log(Odds)."
   ]
  },
  {
   "cell_type": "code",
   "execution_count": 1,
   "metadata": {},
   "outputs": [
    {
     "data": {
      "text/html": [
       "-1"
      ],
      "text/latex": [
       "-1"
      ],
      "text/markdown": [
       "-1"
      ],
      "text/plain": [
       "[1] -1"
      ]
     },
     "metadata": {},
     "output_type": "display_data"
    }
   ],
   "source": [
    "-1.5 + 3*1+ 5*(-0.5)"
   ]
  },
  {
   "cell_type": "markdown",
   "metadata": {},
   "source": [
    "What is the value of the Odds for this observation? Note that you can compute e^x, for some number x, in your R console by typing exp(x). The function exp() computes the exponential of its argument."
   ]
  },
  {
   "cell_type": "code",
   "execution_count": 2,
   "metadata": {},
   "outputs": [],
   "source": [
    "Odds = exp(-1)"
   ]
  },
  {
   "cell_type": "code",
   "execution_count": 3,
   "metadata": {},
   "outputs": [
    {
     "name": "stdout",
     "output_type": "stream",
     "text": [
      "[1] 0.3678794\n"
     ]
    }
   ],
   "source": [
    "print(Odds)"
   ]
  },
  {
   "cell_type": "markdown",
   "metadata": {},
   "source": [
    "What is the value of P(y = 1) for this observation?"
   ]
  },
  {
   "cell_type": "code",
   "execution_count": 4,
   "metadata": {},
   "outputs": [],
   "source": [
    "PoorCare = Odds / (1 + Odds)"
   ]
  },
  {
   "cell_type": "code",
   "execution_count": 5,
   "metadata": {},
   "outputs": [
    {
     "name": "stdout",
     "output_type": "stream",
     "text": [
      "[1] 0.2689414\n"
     ]
    }
   ],
   "source": [
    "print(PoorCare)"
   ]
  },
  {
   "cell_type": "markdown",
   "metadata": {},
   "source": [
    "***\n",
    "Reading the 'quality.csv' file as a data set:"
   ]
  },
  {
   "cell_type": "code",
   "execution_count": 2,
   "metadata": {},
   "outputs": [],
   "source": [
    "quality = read.csv('quality.csv')"
   ]
  },
  {
   "cell_type": "code",
   "execution_count": 3,
   "metadata": {},
   "outputs": [
    {
     "name": "stdout",
     "output_type": "stream",
     "text": [
      "'data.frame':\t131 obs. of  14 variables:\n",
      " $ MemberID            : int  1 2 3 4 5 6 7 8 9 10 ...\n",
      " $ InpatientDays       : int  0 1 0 0 8 2 16 2 2 4 ...\n",
      " $ ERVisits            : int  0 1 0 1 2 0 1 0 1 2 ...\n",
      " $ OfficeVisits        : int  18 6 5 19 19 9 8 8 4 0 ...\n",
      " $ Narcotics           : int  1 1 3 0 3 2 1 0 3 2 ...\n",
      " $ DaysSinceLastERVisit: num  731 411 731 158 449 ...\n",
      " $ Pain                : int  10 0 10 34 10 6 4 5 5 2 ...\n",
      " $ TotalVisits         : int  18 8 5 20 29 11 25 10 7 6 ...\n",
      " $ ProviderCount       : int  21 27 16 14 24 40 19 11 28 21 ...\n",
      " $ MedicalClaims       : int  93 19 27 59 51 53 40 28 20 17 ...\n",
      " $ ClaimLines          : int  222 115 148 242 204 156 261 87 98 66 ...\n",
      " $ StartedOnCombination: logi  FALSE FALSE FALSE FALSE FALSE FALSE ...\n",
      " $ AcuteDrugGapSmall   : int  0 1 5 0 0 4 0 0 0 0 ...\n",
      " $ PoorCare            : int  0 0 0 0 0 1 0 0 1 0 ...\n"
     ]
    }
   ],
   "source": [
    "# Let's look at the structure of the data set\n",
    "str(quality)"
   ]
  },
  {
   "cell_type": "code",
   "execution_count": 5,
   "metadata": {},
   "outputs": [
    {
     "data": {
      "text/plain": [
       "\n",
       " 0  1 \n",
       "98 33 "
      ]
     },
     "metadata": {},
     "output_type": "display_data"
    }
   ],
   "source": [
    "# Show the data of a given variable as a table:\n",
    "table(quality$PoorCare)"
   ]
  },
  {
   "cell_type": "markdown",
   "metadata": {},
   "source": [
    "In the previous week, when we computed the R-squared for linear regression, we compared our predictions to the baseline method of predicting the _average outcome_ for all data points.\n",
    "\n",
    "In a classification problem like this one, a standard baseline method is to just predict the _most frequent outcome_ for all observations."
   ]
  },
  {
   "cell_type": "code",
   "execution_count": 7,
   "metadata": {},
   "outputs": [
    {
     "data": {
      "text/html": [
       "0.748091603053435"
      ],
      "text/latex": [
       "0.748091603053435"
      ],
      "text/markdown": [
       "0.748091603053435"
      ],
      "text/plain": [
       "[1] 0.7480916"
      ]
     },
     "metadata": {},
     "output_type": "display_data"
    }
   ],
   "source": [
    "# what would be the accuracy of our baseline model?\n",
    "98/131"
   ]
  },
  {
   "cell_type": "markdown",
   "metadata": {},
   "source": [
    "The accuracy of our baseline model would be about 75%. This is what we'll try to beat with our logistic regression model."
   ]
  },
  {
   "cell_type": "code",
   "execution_count": null,
   "metadata": {},
   "outputs": [],
   "source": []
  }
 ],
 "metadata": {
  "kernelspec": {
   "display_name": "R",
   "language": "R",
   "name": "ir"
  },
  "language_info": {
   "codemirror_mode": "r",
   "file_extension": ".r",
   "mimetype": "text/x-r-source",
   "name": "R",
   "pygments_lexer": "r",
   "version": "3.4.3"
  }
 },
 "nbformat": 4,
 "nbformat_minor": 2
}
